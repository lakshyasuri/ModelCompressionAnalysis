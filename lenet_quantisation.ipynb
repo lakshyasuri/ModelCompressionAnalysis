{
 "cells": [
  {
   "cell_type": "code",
   "execution_count": 3,
   "id": "cabe8284-d630-47b5-9a88-79eb24722e4d",
   "metadata": {},
   "outputs": [],
   "source": [
    "import torch\n",
    "import torch.quantization as tq\n",
    "from torch.ao.quantization.quantize_fx import prepare_fx, convert_fx\n",
    "from torch.ao.quantization.qconfig_mapping import QConfigMapping\n",
    "from torch.ao.quantization import default_dynamic_qconfig, MovingAverageMinMaxObserver, PerChannelMinMaxObserver, get_default_qconfig, HistogramObserver\n",
    "import torch.fx as fx\n",
    "from torch.ao.quantization.observer import PlaceholderObserver\n",
    "from pathlib import Path\n",
    "import copy\n",
    "from tqdm import tqdm"
   ]
  },
  {
   "cell_type": "code",
   "execution_count": 4,
   "id": "7d9ae1ef-c1c1-40dd-91f6-75ff8a82175e",
   "metadata": {},
   "outputs": [
    {
     "data": {
      "text/plain": [
       "'qnnpack'"
      ]
     },
     "execution_count": 4,
     "metadata": {},
     "output_type": "execute_result"
    }
   ],
   "source": [
    "supported_engines = torch.backends.quantized.supported_engines\n",
    "if 'qnnpack' in supported_engines:\n",
    "    torch.backends.quantized.engine = 'qnnpack'\n",
    "if 'fbgemm' in supported_engines:\n",
    "    torch.backends.quantized.engine = 'fbgemm'\n",
    "saved_model_path = Path(\"./saved_models/lenet\")\n",
    "torch.backends.quantized.engine"
   ]
  },
  {
   "cell_type": "code",
   "execution_count": 5,
   "id": "72da92ba-abfc-4a5c-a610-88ddb3620ff5",
   "metadata": {},
   "outputs": [
    {
     "data": {
      "text/plain": [
       "LeNet5(\n",
       "  (conv1): Conv2d(1, 6, kernel_size=(5, 5), stride=(1, 1))\n",
       "  (conv2): Conv2d(6, 16, kernel_size=(5, 5), stride=(1, 1))\n",
       "  (fc1): Linear(in_features=256, out_features=120, bias=True)\n",
       "  (fc2): Linear(in_features=120, out_features=84, bias=True)\n",
       "  (fc3): Linear(in_features=84, out_features=10, bias=True)\n",
       ")"
      ]
     },
     "execution_count": 5,
     "metadata": {},
     "output_type": "execute_result"
    }
   ],
   "source": [
    "baseline_model = torch.load(saved_model_path / \"lenet5_baseline_model.pth\", map_location=\"cpu\",weights_only=False)\n",
    "baseline_model.eval()"
   ]
  },
  {
   "cell_type": "code",
   "execution_count": 6,
   "id": "2efd6e91-ba1b-41bd-b189-426618a494ea",
   "metadata": {},
   "outputs": [
    {
     "data": {
      "text/plain": [
       "QConfigMapping (\n",
       " global_qconfig\n",
       "  QConfig(activation=functools.partial(<class 'torch.ao.quantization.observer.PlaceholderObserver'>, dtype=torch.quint8, quant_min=0, quant_max=255, is_dynamic=True){}, weight=functools.partial(<class 'torch.ao.quantization.observer.PerChannelMinMaxObserver'>, dtype=torch.qint8, qscheme=torch.per_channel_symmetric){})\n",
       " object_type_qconfigs\n",
       "  OrderedDict()\n",
       " module_name_regex_qconfigs\n",
       "  OrderedDict()\n",
       " module_name_qconfigs\n",
       "  OrderedDict()\n",
       " module_name_object_type_order_qconfigs\n",
       "  OrderedDict()\n",
       ")"
      ]
     },
     "execution_count": 6,
     "metadata": {},
     "output_type": "execute_result"
    }
   ],
   "source": [
    "# ===== dynamic quantisation on baseline model\n",
    "dynamic_qconfig = tq.QConfig(\n",
    "    activation=PlaceholderObserver.with_args(\n",
    "        dtype=torch.quint8,\n",
    "        quant_min=0,\n",
    "        quant_max=255,\n",
    "        is_dynamic=True\n",
    "    ),\n",
    "    weight=PerChannelMinMaxObserver.with_args(\n",
    "        dtype=torch.qint8,\n",
    "        qscheme=torch.per_channel_symmetric\n",
    "    )\n",
    ")\n",
    "qconfig_mapping = QConfigMapping()\n",
    "qconfig_mapping.set_global(dynamic_qconfig)"
   ]
  },
  {
   "cell_type": "code",
   "execution_count": 7,
   "id": "e4b3dded-5483-4db3-a771-fc455f9baafb",
   "metadata": {},
   "outputs": [],
   "source": [
    "def quant_model_prep(example_input, model, qconfig_mapping):\n",
    "    return prepare_fx(\n",
    "        copy.deepcopy(model),\n",
    "        qconfig_mapping,\n",
    "        example_input\n",
    "    )"
   ]
  },
  {
   "cell_type": "code",
   "execution_count": 8,
   "id": "4db9a172-6245-4b97-873d-fb759de24015",
   "metadata": {},
   "outputs": [],
   "source": [
    "example_input = (torch.randn(1, 1, 28, 28),)\n",
    "quantized_dy_model = convert_fx(quant_model_prep(example_input, baseline_model, qconfig_mapping))"
   ]
  },
  {
   "cell_type": "code",
   "execution_count": 9,
   "id": "c74508a7-b31a-4b18-a226-0556bf3f4b99",
   "metadata": {},
   "outputs": [],
   "source": [
    "torch.save(quantized_dy_model.state_dict(), saved_model_path / 'lenet5_base_dy_quant_weights.pth')\n",
    "torch.save(quantized_dy_model, saved_model_path / 'lenet5_base_dy_quant_model.pth')"
   ]
  },
  {
   "cell_type": "code",
   "execution_count": 10,
   "id": "2a534eba-fd16-43b6-8847-cb977be1681f",
   "metadata": {},
   "outputs": [],
   "source": [
    "from utils import evaluate_model\n",
    "from torchvision import datasets, transforms\n",
    "from torch.utils.data import DataLoader"
   ]
  },
  {
   "cell_type": "code",
   "execution_count": 11,
   "id": "07751040-5bee-4a80-8223-1cd1b186d366",
   "metadata": {},
   "outputs": [],
   "source": [
    "transform = transforms.Compose([\n",
    "    transforms.ToTensor(),\n",
    "    transforms.Normalize((0.1307,), (0.3081,))\n",
    "])\n",
    "test_dataset = datasets.MNIST('./data', train=False, transform=transform)\n",
    "test_loader = DataLoader(test_dataset, batch_size=64)"
   ]
  },
  {
   "cell_type": "code",
   "execution_count": 12,
   "id": "7942d5a6-5363-49a7-bacc-c16f952ff14c",
   "metadata": {},
   "outputs": [
    {
     "data": {
      "text/plain": [
       "157"
      ]
     },
     "execution_count": 12,
     "metadata": {},
     "output_type": "execute_result"
    }
   ],
   "source": [
    "len(test_loader)"
   ]
  },
  {
   "cell_type": "code",
   "execution_count": 13,
   "id": "3d90bb4c-4975-42e4-9538-df5af739320d",
   "metadata": {},
   "outputs": [
    {
     "name": "stderr",
     "output_type": "stream",
     "text": [
      "/Users/lakshya/PycharmProjects/ModelCompressionAnalysis/.venv/lib/python3.12/site-packages/torch/_utils.py:431: UserWarning: TypedStorage is deprecated. It will be removed in the future and UntypedStorage will be the only storage class. This should only matter to you if you are using storages directly.  To access UntypedStorage directly, use tensor.untyped_storage() instead of tensor.storage()\n",
      "  device=storage.device,\n"
     ]
    },
    {
     "data": {
      "text/plain": [
       "GraphModule(\n",
       "  (conv1): ConvReLU2d(\n",
       "    (0): Conv2d(1, 6, kernel_size=(5, 5), stride=(1, 1))\n",
       "    (1): ReLU()\n",
       "  )\n",
       "  (conv2): ConvReLU2d(\n",
       "    (0): Conv2d(6, 16, kernel_size=(5, 5), stride=(1, 1))\n",
       "    (1): ReLU()\n",
       "  )\n",
       "  (fc1): DynamicQuantizedLinearReLU(in_features=256, out_features=120, dtype=torch.qint8, qscheme=torch.per_channel_affine)\n",
       "  (fc2): DynamicQuantizedLinearReLU(in_features=120, out_features=84, dtype=torch.qint8, qscheme=torch.per_channel_affine)\n",
       "  (fc3): DynamicQuantizedLinear(in_features=84, out_features=10, dtype=torch.qint8, qscheme=torch.per_channel_affine)\n",
       ")"
      ]
     },
     "execution_count": 13,
     "metadata": {},
     "output_type": "execute_result"
    }
   ],
   "source": [
    "quantized_dy_model = torch.load(saved_model_path / \"lenet5_base_dy_quant_model.pth\", map_location=\"cpu\",weights_only=False)\n",
    "quantized_dy_model.eval()"
   ]
  },
  {
   "cell_type": "code",
   "execution_count": 14,
   "id": "d3fcdb00-7f49-4d00-ab4f-2499ab039d8e",
   "metadata": {},
   "outputs": [
    {
     "name": "stderr",
     "output_type": "stream",
     "text": [
      "100%|██████████████| 157/157 [00:00<00:00, 180.85it/s, Loss=0.0589, Top1=98.14%]\n"
     ]
    },
    {
     "data": {
      "text/plain": [
       "{'top1_acc': 0.9814,\n",
       " 'top5_acc': 0.9999,\n",
       " 'total_inference_time': 0.8684639930725098,\n",
       " 'average_loss': 3.7494788712623177,\n",
       " 'total_batches': 157,\n",
       " 'all_losses': [],\n",
       " 'all_top1_acc': [],\n",
       " 'inference_times': [],\n",
       " 'true_labels': [],\n",
       " 'predicted_labels': []}"
      ]
     },
     "execution_count": 14,
     "metadata": {},
     "output_type": "execute_result"
    }
   ],
   "source": [
    "evaluate_model(baseline_model, test_loader, 'lenet5')"
   ]
  },
  {
   "cell_type": "code",
   "execution_count": 15,
   "id": "3fd5bd45-303f-4251-9178-f1de2f9ce275",
   "metadata": {},
   "outputs": [
    {
     "name": "stderr",
     "output_type": "stream",
     "text": [
      "[W406 02:10:47.383173000 qlinear_dynamic.cpp:252] Warning: Currently, qnnpack incorrectly ignores reduce_range when it is set to true; this may change in a future release. (function operator())\n",
      "[W406 02:10:47.386976000 qlinear_dynamic.cpp:252] Warning: Currently, qnnpack incorrectly ignores reduce_range when it is set to true; this may change in a future release. (function operator())\n",
      "100%|██████████████| 157/157 [00:00<00:00, 180.63it/s, Loss=0.0589, Top1=98.12%]\n"
     ]
    },
    {
     "data": {
      "text/plain": [
       "{'top1_acc': 0.9812,\n",
       " 'top5_acc': 0.9999,\n",
       " 'total_inference_time': 0.8693900108337402,\n",
       " 'average_loss': 3.7515113297449485,\n",
       " 'total_batches': 157,\n",
       " 'all_losses': [],\n",
       " 'all_top1_acc': [],\n",
       " 'inference_times': [],\n",
       " 'true_labels': [],\n",
       " 'predicted_labels': []}"
      ]
     },
     "execution_count": 15,
     "metadata": {},
     "output_type": "execute_result"
    }
   ],
   "source": [
    "evaluate_model(quantized_dy_model, test_loader, 'lenet5')"
   ]
  },
  {
   "cell_type": "code",
   "execution_count": 16,
   "id": "eb0bee78-8e7a-400c-b34d-d9efda5dd22a",
   "metadata": {},
   "outputs": [
    {
     "data": {
      "text/plain": [
       "64"
      ]
     },
     "execution_count": 16,
     "metadata": {},
     "output_type": "execute_result"
    }
   ],
   "source": [
    "test_loader.batch_size"
   ]
  },
  {
   "cell_type": "code",
   "execution_count": 17,
   "id": "7b7ac78c-73dc-40d7-ac23-7cb6bd6467e2",
   "metadata": {},
   "outputs": [
    {
     "name": "stdout",
     "output_type": "stream",
     "text": [
      "QConfig(activation=functools.partial(<class 'torch.ao.quantization.observer.HistogramObserver'>, reduce_range=False){}, weight=functools.partial(<class 'torch.ao.quantization.observer.MinMaxObserver'>, dtype=torch.qint8, qscheme=torch.per_tensor_symmetric){})\n"
     ]
    }
   ],
   "source": [
    "# ======== Static Quantisation of the baseline model\n",
    "qconfig = get_default_qconfig(\"qnnpack\")\n",
    "custom_config = tq.QConfig(\n",
    "    activation=HistogramObserver.with_args(\n",
    "        reduce_range=False\n",
    "    ),\n",
    "    weight=PerChannelMinMaxObserver.with_args(\n",
    "        dtype=torch.qint8,\n",
    "        qscheme=torch.per_channel_symmetric\n",
    "    )\n",
    ")\n",
    "print(qconfig)\n",
    "qconfig_mapping = QConfigMapping() \\\n",
    "    .set_global(custom_config) \\\n",
    "    .set_object_type(torch.nn.Conv2d, custom_config) \\\n",
    "    .set_object_type(torch.nn.Linear, custom_config) \\\n",
    "    .set_object_type(torch.nn.ReLU, custom_config)"
   ]
  },
  {
   "cell_type": "code",
   "execution_count": 18,
   "id": "da40b983-cc9a-46a1-ad17-94c9b804d305",
   "metadata": {},
   "outputs": [
    {
     "name": "stdout",
     "output_type": "stream",
     "text": [
      "LeNet5(\n",
      "  (conv1): Conv2d(1, 6, kernel_size=(5, 5), stride=(1, 1))\n",
      "  (conv2): Conv2d(6, 16, kernel_size=(5, 5), stride=(1, 1))\n",
      "  (fc1): Linear(in_features=256, out_features=120, bias=True)\n",
      "  (fc2): Linear(in_features=120, out_features=84, bias=True)\n",
      "  (fc3): Linear(in_features=84, out_features=10, bias=True)\n",
      ")\n"
     ]
    }
   ],
   "source": [
    "example_inputs = (torch.randn(1, 1, 28, 28),)\n",
    "print(baseline_model)\n",
    "base_st_quant_model_p = quant_model_prep(example_inputs, baseline_model, qconfig_mapping)"
   ]
  },
  {
   "cell_type": "code",
   "execution_count": 19,
   "id": "b2d68661-537c-4205-93b3-ddacc207fda7",
   "metadata": {},
   "outputs": [],
   "source": [
    "train_dataset = datasets.MNIST('./data', train=True, download=True, transform=transform)\n",
    "calibration_loader = DataLoader(torch.utils.data.Subset(train_dataset, range(1000)), batch_size=64)"
   ]
  },
  {
   "cell_type": "code",
   "execution_count": 20,
   "id": "5f71b227-50ce-4516-9c08-aefcf18bf725",
   "metadata": {},
   "outputs": [],
   "source": [
    "def calibrate(model, data_loader):\n",
    "    model.eval()\n",
    "    with torch.no_grad(), tqdm(total=len(data_loader)) as pbar:\n",
    "        for image, target in data_loader:\n",
    "            model(image)\n",
    "            pbar.update(1)"
   ]
  },
  {
   "cell_type": "code",
   "execution_count": 21,
   "id": "a920671b-0314-4271-a163-5443f73e3495",
   "metadata": {},
   "outputs": [
    {
     "name": "stderr",
     "output_type": "stream",
     "text": [
      "100%|██████████████████████████████████████████| 16/16 [00:00<00:00, 118.85it/s]\n"
     ]
    }
   ],
   "source": [
    "calibrate(base_st_quant_model_p, calibration_loader)"
   ]
  },
  {
   "cell_type": "code",
   "execution_count": 22,
   "id": "7dd9e802-7003-43fb-bbcc-61e6bf637678",
   "metadata": {},
   "outputs": [],
   "source": [
    "base_st_quant_model = convert_fx(base_st_quant_model_p)"
   ]
  },
  {
   "cell_type": "code",
   "execution_count": 23,
   "id": "062a99d6-5519-4b1f-adf2-3184ce951a80",
   "metadata": {},
   "outputs": [
    {
     "name": "stdout",
     "output_type": "stream",
     "text": [
      "GraphModule(\n",
      "  (conv1): QuantizedConvReLU2d(1, 6, kernel_size=(5, 5), stride=(1, 1), scale=0.02737203985452652, zero_point=0)\n",
      "  (conv2): QuantizedConvReLU2d(6, 16, kernel_size=(5, 5), stride=(1, 1), scale=0.047422222793102264, zero_point=0)\n",
      "  (fc1): QuantizedLinearReLU(in_features=256, out_features=120, scale=0.07808518409729004, zero_point=0, qscheme=torch.per_channel_affine)\n",
      "  (fc2): QuantizedLinearReLU(in_features=120, out_features=84, scale=0.06925788521766663, zero_point=0, qscheme=torch.per_channel_affine)\n",
      "  (fc3): QuantizedLinear(in_features=84, out_features=10, scale=0.1696537584066391, zero_point=137, qscheme=torch.per_channel_affine)\n",
      ")\n",
      "\n",
      "\n",
      "\n",
      "def forward(self, x):\n",
      "    conv1_input_scale_0 = self.conv1_input_scale_0\n",
      "    conv1_input_zero_point_0 = self.conv1_input_zero_point_0\n",
      "    quantize_per_tensor = torch.quantize_per_tensor(x, conv1_input_scale_0, conv1_input_zero_point_0, torch.quint8);  x = conv1_input_scale_0 = conv1_input_zero_point_0 = None\n",
      "    conv1 = self.conv1(quantize_per_tensor);  quantize_per_tensor = None\n",
      "    max_pool2d = torch.nn.functional.max_pool2d(conv1, 2, stride = None, padding = 0, dilation = 1, ceil_mode = False, return_indices = False);  conv1 = None\n",
      "    conv2 = self.conv2(max_pool2d);  max_pool2d = None\n",
      "    max_pool2d_1 = torch.nn.functional.max_pool2d(conv2, 2, stride = None, padding = 0, dilation = 1, ceil_mode = False, return_indices = False);  conv2 = None\n",
      "    size = max_pool2d_1.size(0)\n",
      "    reshape = max_pool2d_1.reshape(size, -1);  max_pool2d_1 = size = None\n",
      "    fc1 = self.fc1(reshape);  reshape = None\n",
      "    fc2 = self.fc2(fc1);  fc1 = None\n",
      "    fc3 = self.fc3(fc2);  fc2 = None\n",
      "    dequantize_8 = fc3.dequantize();  fc3 = None\n",
      "    return dequantize_8\n",
      "    \n",
      "# To see more debug info, please use `graph_module.print_readable()`\n"
     ]
    }
   ],
   "source": [
    "print(base_st_quant_model)"
   ]
  },
  {
   "cell_type": "code",
   "execution_count": 24,
   "id": "f1bdb2af-3712-4ce4-a848-291b5ad16045",
   "metadata": {},
   "outputs": [],
   "source": [
    "torch.save(base_st_quant_model.state_dict(), saved_model_path / 'lenet5_base_st_quant_weights.pth')\n",
    "torch.save(base_st_quant_model, saved_model_path / 'lenet5_base_st_quant_model.pth')"
   ]
  },
  {
   "cell_type": "code",
   "execution_count": 25,
   "id": "0c48d4e3-f013-4b6f-b4d2-be5f50d1c807",
   "metadata": {},
   "outputs": [
    {
     "name": "stderr",
     "output_type": "stream",
     "text": [
      "100%|██████████████| 157/157 [00:00<00:00, 185.13it/s, Loss=0.0589, Top1=98.11%]\n"
     ]
    },
    {
     "data": {
      "text/plain": [
       "{'top1_acc': 0.9811,\n",
       " 'top5_acc': 0.9999,\n",
       " 'total_inference_time': 0.8482372760772705,\n",
       " 'average_loss': 3.753511188885458,\n",
       " 'total_batches': 157,\n",
       " 'all_losses': [],\n",
       " 'all_top1_acc': [],\n",
       " 'inference_times': [],\n",
       " 'true_labels': [],\n",
       " 'predicted_labels': []}"
      ]
     },
     "execution_count": 25,
     "metadata": {},
     "output_type": "execute_result"
    }
   ],
   "source": [
    "evaluate_model(base_st_quant_model, test_loader, 'lenet5')"
   ]
  },
  {
   "cell_type": "code",
   "execution_count": null,
   "id": "610f2954-7764-4714-a563-f308086d748d",
   "metadata": {},
   "outputs": [],
   "source": []
  }
 ],
 "metadata": {
  "kernelspec": {
   "display_name": "ModelCompressionAnalysis",
   "language": "python",
   "name": "modelcompressionanalysis"
  },
  "language_info": {
   "codemirror_mode": {
    "name": "ipython",
    "version": 3
   },
   "file_extension": ".py",
   "mimetype": "text/x-python",
   "name": "python",
   "nbconvert_exporter": "python",
   "pygments_lexer": "ipython3",
   "version": "3.12.2"
  }
 },
 "nbformat": 4,
 "nbformat_minor": 5
}
