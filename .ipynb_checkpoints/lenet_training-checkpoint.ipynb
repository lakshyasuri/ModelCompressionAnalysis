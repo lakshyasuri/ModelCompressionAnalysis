{
 "cells": [
  {
   "cell_type": "code",
   "execution_count": 1,
   "id": "6f13dab5-ebb3-4853-9b07-1b63fb297100",
   "metadata": {},
   "outputs": [],
   "source": [
    "import torch\n",
    "import torch.nn as nn\n",
    "import torch.nn.functional as F\n",
    "from torchvision import datasets, transforms\n",
    "from torch.utils.data import DataLoader\n",
    "import torch.optim as optim\n",
    "import torch.quantization\n",
    "from tqdm import tqdm\n",
    "import pandas as pd\n",
    "from torch.quantization.observer import MinMaxObserver, PerChannelMinMaxObserver\n",
    "import os\n",
    "import time\n",
    "import numpy as np\n",
    "import matplotlib.pyplot as plt\n",
    "from scipy.ndimage import gaussian_filter1d\n",
    "import matplotlib.patches as mpatches\n",
    "import torch.nn.utils.prune as prune\n",
    "import torch.onnx\n",
    "import torch_pruning as tp\n",
    "import tempfile\n",
    "from models.LeNet5 import LeNet5\n",
    "from pathlib import Path"
   ]
  },
  {
   "cell_type": "code",
   "execution_count": 2,
   "id": "1b822d10-82b4-415d-86ba-e5b847da3686",
   "metadata": {},
   "outputs": [],
   "source": [
    "if torch.backends.mps.is_available():\n",
    "    DEVICE = torch.device(\"mps\")\n",
    "elif torch.torch.cuda.is_available():\n",
    "    DEVICE = torch.device(\"cuda\")\n",
    "else:\n",
    "    DEVICE = torch.device(\"cpu\")\n",
    "saved_model_path = Path(\"./saved_models/lenet/\")\n",
    "saved_model_path.mkdir(parents=True, exist_ok=True)"
   ]
  },
  {
   "cell_type": "code",
   "execution_count": 3,
   "id": "817a917e-3c01-46e6-ab3f-153672ddb24b",
   "metadata": {},
   "outputs": [],
   "source": [
    "# ======= Data Preparation\n",
    "torch.manual_seed(42)\n",
    "# === 3. Data ===\n",
    "transform = transforms.Compose([\n",
    "    transforms.ToTensor(),\n",
    "    transforms.Normalize((0.1307,), (0.3081,))\n",
    "])\n",
    "train_dataset = datasets.MNIST('./data', train=True, download=True, transform=transform)\n",
    "test_dataset = datasets.MNIST('./data', train=False, transform=transform)\n",
    "train_loader = DataLoader(train_dataset, batch_size=64, shuffle=True)\n",
    "test_loader = DataLoader(test_dataset, batch_size=64)"
   ]
  },
  {
   "cell_type": "code",
   "execution_count": 4,
   "id": "6e8567c3-5266-4a56-84b0-8e68aa28b0af",
   "metadata": {},
   "outputs": [],
   "source": [
    "# ======= model training function\n",
    "def train_model(model, loader, criterion, epochs):\n",
    "    model.to(DEVICE)\n",
    "    optimizer = optim.Adam(model.parameters(), lr=0.001)\n",
    "    model.train()\n",
    "    batch_log, image_log = [], []\n",
    "    for epoch in range(epochs):\n",
    "        for batch_idx, (images, labels) in enumerate(tqdm(loader)):\n",
    "            images, labels = images.to(DEVICE), labels.to(DEVICE)\n",
    "            optimizer.zero_grad()\n",
    "            outputs = model(images)\n",
    "\n",
    "            loss = criterion(outputs, labels)\n",
    "            loss.backward()\n",
    "            optimizer.step()\n",
    "            preds = outputs.argmax(dim=1)\n",
    "            acc = preds.eq(labels).sum().item() / len(labels)\n",
    "            batch_log.append({\"epoch\": epoch+1, \"batch\": batch_idx, \"loss\": loss.item(), \"accuracy\": acc})\n",
    "\n",
    "            if batch_idx % 100 == 0:\n",
    "                print(f\"Batch training loss {loss.item():.4f} | training accuracy {acc:.4f} at step {batch_idx}\")\n",
    "                \n",
    "            probs = F.softmax(outputs, dim=1)\n",
    "            confs, pred_labels = probs.max(dim=1)\n",
    "            for i in range(len(images)):\n",
    "                image_log.append({\"epoch\": epoch+1, \"batch\": batch_idx, \"true\": labels[i].item(), \"pred\": pred_labels[i].item(), \"conf\": confs[i].item()})\n",
    "\n",
    "    return model"
   ]
  },
  {
   "cell_type": "code",
   "execution_count": 5,
   "id": "c03e71ff-8677-41d0-817e-9305892f55e7",
   "metadata": {},
   "outputs": [
    {
     "name": "stderr",
     "output_type": "stream",
     "text": [
      "  0%|▏                                          | 4/938 [00:00<02:05,  7.45it/s]"
     ]
    },
    {
     "name": "stdout",
     "output_type": "stream",
     "text": [
      "Batch training loss 2.2973 | training accuracy 0.0625 at step 0\n"
     ]
    },
    {
     "name": "stderr",
     "output_type": "stream",
     "text": [
      " 11%|████▌                                    | 103/938 [00:05<00:36, 22.86it/s]"
     ]
    },
    {
     "name": "stdout",
     "output_type": "stream",
     "text": [
      "Batch training loss 0.4365 | training accuracy 0.8438 at step 100\n"
     ]
    },
    {
     "name": "stderr",
     "output_type": "stream",
     "text": [
      " 22%|████████▊                                | 202/938 [00:09<00:32, 22.76it/s]"
     ]
    },
    {
     "name": "stdout",
     "output_type": "stream",
     "text": [
      "Batch training loss 0.1114 | training accuracy 0.9844 at step 200\n"
     ]
    },
    {
     "name": "stderr",
     "output_type": "stream",
     "text": [
      " 32%|█████████████▏                           | 302/938 [00:13<00:28, 22.42it/s]"
     ]
    },
    {
     "name": "stdout",
     "output_type": "stream",
     "text": [
      "Batch training loss 0.1357 | training accuracy 0.9531 at step 300\n"
     ]
    },
    {
     "name": "stderr",
     "output_type": "stream",
     "text": [
      " 43%|█████████████████▋                       | 404/938 [00:18<00:23, 23.07it/s]"
     ]
    },
    {
     "name": "stdout",
     "output_type": "stream",
     "text": [
      "Batch training loss 0.0941 | training accuracy 0.9844 at step 400\n"
     ]
    },
    {
     "name": "stderr",
     "output_type": "stream",
     "text": [
      " 54%|█████████████████████▉                   | 503/938 [00:22<00:19, 22.46it/s]"
     ]
    },
    {
     "name": "stdout",
     "output_type": "stream",
     "text": [
      "Batch training loss 0.0324 | training accuracy 1.0000 at step 500\n"
     ]
    },
    {
     "name": "stderr",
     "output_type": "stream",
     "text": [
      " 64%|██████████████████████████▎              | 602/938 [00:27<00:14, 22.63it/s]"
     ]
    },
    {
     "name": "stdout",
     "output_type": "stream",
     "text": [
      "Batch training loss 0.3778 | training accuracy 0.9375 at step 600\n"
     ]
    },
    {
     "name": "stderr",
     "output_type": "stream",
     "text": [
      " 75%|██████████████████████████████▊          | 704/938 [00:31<00:10, 22.53it/s]"
     ]
    },
    {
     "name": "stdout",
     "output_type": "stream",
     "text": [
      "Batch training loss 0.0973 | training accuracy 0.9688 at step 700\n"
     ]
    },
    {
     "name": "stderr",
     "output_type": "stream",
     "text": [
      " 86%|███████████████████████████████████      | 803/938 [00:36<00:05, 24.13it/s]"
     ]
    },
    {
     "name": "stdout",
     "output_type": "stream",
     "text": [
      "Batch training loss 0.1411 | training accuracy 0.9375 at step 800\n"
     ]
    },
    {
     "name": "stderr",
     "output_type": "stream",
     "text": [
      " 96%|███████████████████████████████████████▍ | 902/938 [00:40<00:01, 22.44it/s]"
     ]
    },
    {
     "name": "stdout",
     "output_type": "stream",
     "text": [
      "Batch training loss 0.0077 | training accuracy 1.0000 at step 900\n"
     ]
    },
    {
     "name": "stderr",
     "output_type": "stream",
     "text": [
      "100%|█████████████████████████████████████████| 938/938 [00:42<00:00, 22.24it/s]\n",
      "  0%|▏                                          | 3/938 [00:00<00:36, 25.68it/s]"
     ]
    },
    {
     "name": "stdout",
     "output_type": "stream",
     "text": [
      "Batch training loss 0.0254 | training accuracy 1.0000 at step 0\n"
     ]
    },
    {
     "name": "stderr",
     "output_type": "stream",
     "text": [
      " 11%|████▌                                    | 105/938 [00:04<00:32, 25.66it/s]"
     ]
    },
    {
     "name": "stdout",
     "output_type": "stream",
     "text": [
      "Batch training loss 0.0468 | training accuracy 0.9844 at step 100\n"
     ]
    },
    {
     "name": "stderr",
     "output_type": "stream",
     "text": [
      " 22%|████████▉                                | 204/938 [00:08<00:32, 22.49it/s]"
     ]
    },
    {
     "name": "stdout",
     "output_type": "stream",
     "text": [
      "Batch training loss 0.1072 | training accuracy 0.9531 at step 200\n"
     ]
    },
    {
     "name": "stderr",
     "output_type": "stream",
     "text": [
      " 32%|█████████████▏                           | 303/938 [00:12<00:28, 22.48it/s]"
     ]
    },
    {
     "name": "stdout",
     "output_type": "stream",
     "text": [
      "Batch training loss 0.1595 | training accuracy 0.9688 at step 300\n"
     ]
    },
    {
     "name": "stderr",
     "output_type": "stream",
     "text": [
      " 43%|█████████████████▌                       | 402/938 [00:17<00:23, 22.49it/s]"
     ]
    },
    {
     "name": "stdout",
     "output_type": "stream",
     "text": [
      "Batch training loss 0.0323 | training accuracy 0.9844 at step 400\n"
     ]
    },
    {
     "name": "stderr",
     "output_type": "stream",
     "text": [
      " 54%|██████████████████████                   | 504/938 [00:21<00:19, 22.38it/s]"
     ]
    },
    {
     "name": "stdout",
     "output_type": "stream",
     "text": [
      "Batch training loss 0.0378 | training accuracy 0.9844 at step 500\n"
     ]
    },
    {
     "name": "stderr",
     "output_type": "stream",
     "text": [
      " 64%|██████████████████████████▎              | 603/938 [00:26<00:14, 22.34it/s]"
     ]
    },
    {
     "name": "stdout",
     "output_type": "stream",
     "text": [
      "Batch training loss 0.0775 | training accuracy 0.9688 at step 600\n"
     ]
    },
    {
     "name": "stderr",
     "output_type": "stream",
     "text": [
      " 75%|██████████████████████████████▋          | 702/938 [00:30<00:10, 22.25it/s]"
     ]
    },
    {
     "name": "stdout",
     "output_type": "stream",
     "text": [
      "Batch training loss 0.0152 | training accuracy 1.0000 at step 700\n"
     ]
    },
    {
     "name": "stderr",
     "output_type": "stream",
     "text": [
      " 86%|███████████████████████████████████▏     | 804/938 [00:35<00:05, 22.62it/s]"
     ]
    },
    {
     "name": "stdout",
     "output_type": "stream",
     "text": [
      "Batch training loss 0.0429 | training accuracy 0.9844 at step 800\n"
     ]
    },
    {
     "name": "stderr",
     "output_type": "stream",
     "text": [
      " 96%|███████████████████████████████████████▍ | 903/938 [00:39<00:01, 22.82it/s]"
     ]
    },
    {
     "name": "stdout",
     "output_type": "stream",
     "text": [
      "Batch training loss 0.0812 | training accuracy 0.9844 at step 900\n"
     ]
    },
    {
     "name": "stderr",
     "output_type": "stream",
     "text": [
      "100%|█████████████████████████████████████████| 938/938 [00:41<00:00, 22.80it/s]\n"
     ]
    }
   ],
   "source": [
    "# ====== Baseline Model Training\n",
    "baseline_model = LeNet5()\n",
    "criterion = nn.CrossEntropyLoss()\n",
    "baseline_model = train_model(baseline_model, train_loader, criterion, epochs=2)"
   ]
  },
  {
   "cell_type": "code",
   "execution_count": 6,
   "id": "3bae9181-25b9-4de7-b8fc-b80b3173d32a",
   "metadata": {},
   "outputs": [],
   "source": [
    "torch.save(baseline_model.state_dict(), saved_model_path / 'lenet5_baseline_weights.pth')\n",
    "torch.save(baseline_model, saved_model_path / 'lenet5_baseline_model.pth')"
   ]
  },
  {
   "cell_type": "code",
   "execution_count": null,
   "id": "b16755db-d7b0-4363-9010-6e12ed6f95db",
   "metadata": {},
   "outputs": [],
   "source": []
  }
 ],
 "metadata": {
  "kernelspec": {
   "display_name": "ModelCompressionAnalysis",
   "language": "python",
   "name": "modelcompressionanalysis"
  },
  "language_info": {
   "codemirror_mode": {
    "name": "ipython",
    "version": 3
   },
   "file_extension": ".py",
   "mimetype": "text/x-python",
   "name": "python",
   "nbconvert_exporter": "python",
   "pygments_lexer": "ipython3",
   "version": "3.12.2"
  }
 },
 "nbformat": 4,
 "nbformat_minor": 5
}
